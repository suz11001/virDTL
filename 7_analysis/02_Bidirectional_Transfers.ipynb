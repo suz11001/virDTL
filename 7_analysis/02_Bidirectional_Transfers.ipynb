{
 "cells": [
  {
   "cell_type": "markdown",
   "id": "indian-initial",
   "metadata": {},
   "source": [
    "# Read in Ordered and Unordered Transfer Values"
   ]
  },
  {
   "cell_type": "code",
   "execution_count": 1,
   "id": "ignored-extraction",
   "metadata": {},
   "outputs": [],
   "source": [
    "import numpy as np\n",
    "import pandas as pd\n",
    "from tqdm.notebook import tqdm"
   ]
  },
  {
   "cell_type": "code",
   "execution_count": 2,
   "id": "advance-carpet",
   "metadata": {},
   "outputs": [],
   "source": [
    "unordered_pivot = pd.read_csv('unordered_pivot.csv',index_col=0)\n",
    "transfers = pd.read_csv('unclipped_transfer_table.csv')"
   ]
  },
  {
   "cell_type": "markdown",
   "id": "secret-crawford",
   "metadata": {},
   "source": [
    "# Compute Support with Order"
   ]
  },
  {
   "cell_type": "code",
   "execution_count": 3,
   "id": "unlimited-stylus",
   "metadata": {},
   "outputs": [],
   "source": [
    "unordered = unordered_pivot.reset_index().iloc[:,:-1].melt(id_vars=['index'])\n",
    "unordered\n",
    "unordered = unordered.set_index('index')\n",
    "unordered.columns = ['Gene Family','Support']\n",
    "unordered = unordered[unordered['Support'] > 0]\n",
    "unordered['Forward'] = 0\n",
    "unordered['Backward'] = 0"
   ]
  },
  {
   "cell_type": "code",
   "execution_count": 4,
   "id": "loaded-maker",
   "metadata": {},
   "outputs": [
    {
     "data": {
      "application/vnd.jupyter.widget-view+json": {
       "model_id": "e9712d06640d439bb80bd82373ba42ab",
       "version_major": 2,
       "version_minor": 0
      },
      "text/plain": [
       "  0%|          | 0/1170 [00:00<?, ?it/s]"
      ]
     },
     "metadata": {},
     "output_type": "display_data"
    }
   ],
   "source": [
    "for i, row in tqdm(enumerate(unordered.iterrows()),total=len(unordered)):\n",
    "    first = row[0].split('+')[0]\n",
    "    second = row[0].split('+')[1]\n",
    "    gf = row[1]['Gene Family']\n",
    "    forward = transfers[(transfers['Donor'] == first) &\\\n",
    "                        (transfers['Recipient'] == second) &\\\n",
    "                        (transfers['Gene Family'] == gf)]\n",
    "    if len(forward):\n",
    "        forward = forward['Support'].item()\n",
    "    else:\n",
    "        forward = 0\n",
    "    unordered.iloc[i,2] = forward\n",
    "    backward = transfers[(transfers['Recipient'] == first) &\\\n",
    "                         (transfers['Donor'] == second) &\\\n",
    "                         (transfers['Gene Family'] == gf)]\n",
    "    if len(backward):\n",
    "        backward = backward['Support'].item()\n",
    "    else:\n",
    "        backward = 0\n",
    "    unordered.iloc[i,3] = backward"
   ]
  },
  {
   "cell_type": "code",
   "execution_count": 5,
   "id": "foster-insurance",
   "metadata": {},
   "outputs": [],
   "source": [
    "unordered['Forward Pct'] = unordered['Forward'] / (unordered['Forward'] + unordered['Backward']).fillna(0)"
   ]
  },
  {
   "cell_type": "code",
   "execution_count": 6,
   "id": "wicked-combine",
   "metadata": {},
   "outputs": [],
   "source": [
    "bidirectional = unordered[(unordered['Forward Pct'] >= 0.4) &\\\n",
    "                          (1 - unordered['Forward Pct'] >= 0.4) &\\\n",
    "                          (unordered['Forward'] >= 100) &\\\n",
    "                          (unordered['Backward'] >= 100)]\n",
    "bidirectional = bidirectional.sort_values(by=['Support','Forward Pct'],ascending=False)"
   ]
  },
  {
   "cell_type": "code",
   "execution_count": 7,
   "id": "eligible-graphic",
   "metadata": {},
   "outputs": [
    {
     "data": {
      "text/html": [
       "<div>\n",
       "<style scoped>\n",
       "    .dataframe tbody tr th:only-of-type {\n",
       "        vertical-align: middle;\n",
       "    }\n",
       "\n",
       "    .dataframe tbody tr th {\n",
       "        vertical-align: top;\n",
       "    }\n",
       "\n",
       "    .dataframe thead th {\n",
       "        text-align: right;\n",
       "    }\n",
       "</style>\n",
       "<table border=\"1\" class=\"dataframe\">\n",
       "  <thead>\n",
       "    <tr style=\"text-align: right;\">\n",
       "      <th></th>\n",
       "      <th>Gene Family</th>\n",
       "      <th>Support</th>\n",
       "      <th>Forward</th>\n",
       "      <th>Backward</th>\n",
       "      <th>Forward Pct</th>\n",
       "    </tr>\n",
       "    <tr>\n",
       "      <th>index</th>\n",
       "      <th></th>\n",
       "      <th></th>\n",
       "      <th></th>\n",
       "      <th></th>\n",
       "      <th></th>\n",
       "    </tr>\n",
       "  </thead>\n",
       "  <tbody>\n",
       "    <tr>\n",
       "      <th>n2+n35</th>\n",
       "      <td>ORF1ab</td>\n",
       "      <td>1000.0</td>\n",
       "      <td>537</td>\n",
       "      <td>463</td>\n",
       "      <td>0.537</td>\n",
       "    </tr>\n",
       "    <tr>\n",
       "      <th>Rp3+RpS11</th>\n",
       "      <td>M</td>\n",
       "      <td>1000.0</td>\n",
       "      <td>533</td>\n",
       "      <td>467</td>\n",
       "      <td>0.533</td>\n",
       "    </tr>\n",
       "    <tr>\n",
       "      <th>Rs4081+YN2018D</th>\n",
       "      <td>S</td>\n",
       "      <td>1000.0</td>\n",
       "      <td>511</td>\n",
       "      <td>489</td>\n",
       "      <td>0.511</td>\n",
       "    </tr>\n",
       "    <tr>\n",
       "      <th>Anlong-103+YN2013</th>\n",
       "      <td>S</td>\n",
       "      <td>1000.0</td>\n",
       "      <td>503</td>\n",
       "      <td>497</td>\n",
       "      <td>0.503</td>\n",
       "    </tr>\n",
       "    <tr>\n",
       "      <th>HuB2013+Rm1</th>\n",
       "      <td>ORF1ab</td>\n",
       "      <td>1000.0</td>\n",
       "      <td>480</td>\n",
       "      <td>520</td>\n",
       "      <td>0.480</td>\n",
       "    </tr>\n",
       "  </tbody>\n",
       "</table>\n",
       "</div>"
      ],
      "text/plain": [
       "                  Gene Family  Support  Forward  Backward  Forward Pct\n",
       "index                                                                 \n",
       "n2+n35                 ORF1ab   1000.0      537       463        0.537\n",
       "Rp3+RpS11                   M   1000.0      533       467        0.533\n",
       "Rs4081+YN2018D              S   1000.0      511       489        0.511\n",
       "Anlong-103+YN2013           S   1000.0      503       497        0.503\n",
       "HuB2013+Rm1            ORF1ab   1000.0      480       520        0.480"
      ]
     },
     "execution_count": 7,
     "metadata": {},
     "output_type": "execute_result"
    }
   ],
   "source": [
    "bidirectional.head()"
   ]
  },
  {
   "cell_type": "code",
   "execution_count": 8,
   "id": "prescribed-rogers",
   "metadata": {},
   "outputs": [
    {
     "name": "stdout",
     "output_type": "stream",
     "text": [
      "Number of Bidirectional transfers: 48\n"
     ]
    }
   ],
   "source": [
    "print(f\"Number of Bidirectional transfers: {len(bidirectional)}\")"
   ]
  },
  {
   "cell_type": "code",
   "execution_count": 9,
   "id": "acknowledged-religion",
   "metadata": {},
   "outputs": [],
   "source": [
    "bidirectional.to_csv('bidirectional_transfers.csv')"
   ]
  }
 ],
 "metadata": {
  "kernelspec": {
   "display_name": "Python 3",
   "language": "python",
   "name": "python3"
  },
  "language_info": {
   "codemirror_mode": {
    "name": "ipython",
    "version": 3
   },
   "file_extension": ".py",
   "mimetype": "text/x-python",
   "name": "python",
   "nbconvert_exporter": "python",
   "pygments_lexer": "ipython3",
   "version": "3.7.8"
  }
 },
 "nbformat": 4,
 "nbformat_minor": 5
}

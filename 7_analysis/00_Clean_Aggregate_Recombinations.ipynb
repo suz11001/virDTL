{
 "cells": [
  {
   "cell_type": "markdown",
   "id": "surrounded-breakfast",
   "metadata": {},
   "source": [
    "# Read in Aggregate Recombination Files"
   ]
  },
  {
   "cell_type": "code",
   "execution_count": 1,
   "id": "settled-granny",
   "metadata": {},
   "outputs": [],
   "source": [
    "import glob\n",
    "import re\n",
    "import numpy as np\n",
    "import pandas as pd\n",
    "import matplotlib.pyplot as plt"
   ]
  },
  {
   "cell_type": "code",
   "execution_count": 2,
   "id": "sought-continent",
   "metadata": {},
   "outputs": [],
   "source": [
    "aggregate_hgt_files = glob.glob('../6_parse_reconciliation/outputs/parsed_test_*_agg_regB.out')\n",
    "gene_families = [re.search('parsed_test_(.*)_agg_regB.out',f).group(1) for f in aggregate_hgt_files]"
   ]
  },
  {
   "cell_type": "code",
   "execution_count": 3,
   "id": "threatened-shell",
   "metadata": {},
   "outputs": [
    {
     "data": {
      "text/plain": [
       "['ORF1ab',\n",
       " 'ORF3a',\n",
       " 'S',\n",
       " 'ORF6',\n",
       " 'E',\n",
       " 'ORF7b',\n",
       " 'ORF10',\n",
       " 'N',\n",
       " 'ORF8',\n",
       " 'ORF7a',\n",
       " 'M']"
      ]
     },
     "execution_count": 3,
     "metadata": {},
     "output_type": "execute_result"
    }
   ],
   "source": [
    "gene_families"
   ]
  },
  {
   "cell_type": "code",
   "execution_count": 4,
   "id": "designing-photograph",
   "metadata": {},
   "outputs": [],
   "source": [
    "def read_transfer_file(fi):\n",
    "    transfers = []\n",
    "    start = False\n",
    "    with open(fi,'r') as f:\n",
    "        for line in f:\n",
    "            line = line.strip()\n",
    "            if line.startswith('all'):\n",
    "                start = True\n",
    "                continue\n",
    "            if start:\n",
    "                if '-' in line:\n",
    "                    return transfers\n",
    "                tr = line.strip().split()\n",
    "                tr[2] = int(tr[2])\n",
    "                transfers.append(tr)\n",
    "\n",
    "def get_transfers(gf):\n",
    "    gene_fam_path = f'../6_parse_reconciliation/outputs/parsed_test_{gf}_agg_regB.out'\n",
    "    trans_ordered = read_transfer_file(gene_fam_path)\n",
    "    trans_sorted = sorted(trans_ordered,key=lambda x: x[1],reverse=True)\n",
    "    res = []\n",
    "    for tr in trans_sorted:\n",
    "        res.append([tr[0], tr[1], tr[2], gf])\n",
    "    return res\n",
    "\n",
    "def concat_df(df,df2):\n",
    "    dfl = [df, df2]\n",
    "    return pd.concat(dfl)"
   ]
  },
  {
   "cell_type": "code",
   "execution_count": 5,
   "id": "sustained-asthma",
   "metadata": {},
   "outputs": [],
   "source": [
    "transfers_per_family = {gf: pd.DataFrame(get_transfers(gf)) for gf in gene_families}\n",
    "transfers_raw = pd.concat(transfers_per_family.values()).sort_values(by=[2,3],ascending=False)[[0,1,3,2]]\n",
    "transfers_raw.columns = ['Donor','Recipient','Gene Family','Support']"
   ]
  },
  {
   "cell_type": "code",
   "execution_count": 6,
   "id": "phantom-abortion",
   "metadata": {},
   "outputs": [
    {
     "data": {
      "text/html": [
       "<div>\n",
       "<style scoped>\n",
       "    .dataframe tbody tr th:only-of-type {\n",
       "        vertical-align: middle;\n",
       "    }\n",
       "\n",
       "    .dataframe tbody tr th {\n",
       "        vertical-align: top;\n",
       "    }\n",
       "\n",
       "    .dataframe thead th {\n",
       "        text-align: right;\n",
       "    }\n",
       "</style>\n",
       "<table border=\"1\" class=\"dataframe\">\n",
       "  <thead>\n",
       "    <tr style=\"text-align: right;\">\n",
       "      <th></th>\n",
       "      <th>Donor</th>\n",
       "      <th>Recipient</th>\n",
       "      <th>Gene Family</th>\n",
       "      <th>Support</th>\n",
       "    </tr>\n",
       "  </thead>\n",
       "  <tbody>\n",
       "    <tr>\n",
       "      <th>14</th>\n",
       "      <td>KJ4738151</td>\n",
       "      <td>n44</td>\n",
       "      <td>S</td>\n",
       "      <td>1000</td>\n",
       "    </tr>\n",
       "    <tr>\n",
       "      <th>46</th>\n",
       "      <td>n15</td>\n",
       "      <td>MK2113751</td>\n",
       "      <td>S</td>\n",
       "      <td>1000</td>\n",
       "    </tr>\n",
       "    <tr>\n",
       "      <th>87</th>\n",
       "      <td>DQ0716151</td>\n",
       "      <td>DQ4120431</td>\n",
       "      <td>S</td>\n",
       "      <td>1000</td>\n",
       "    </tr>\n",
       "    <tr>\n",
       "      <th>103</th>\n",
       "      <td>GQ1535421</td>\n",
       "      <td>KJ4738151</td>\n",
       "      <td>ORF7a</td>\n",
       "      <td>1000</td>\n",
       "    </tr>\n",
       "    <tr>\n",
       "      <th>109</th>\n",
       "      <td>KF5699961</td>\n",
       "      <td>JX9939881</td>\n",
       "      <td>ORF7a</td>\n",
       "      <td>1000</td>\n",
       "    </tr>\n",
       "  </tbody>\n",
       "</table>\n",
       "</div>"
      ],
      "text/plain": [
       "         Donor  Recipient Gene Family  Support\n",
       "14   KJ4738151        n44           S     1000\n",
       "46         n15  MK2113751           S     1000\n",
       "87   DQ0716151  DQ4120431           S     1000\n",
       "103  GQ1535421  KJ4738151       ORF7a     1000\n",
       "109  KF5699961  JX9939881       ORF7a     1000"
      ]
     },
     "execution_count": 6,
     "metadata": {},
     "output_type": "execute_result"
    }
   ],
   "source": [
    "transfers_raw.head()"
   ]
  },
  {
   "cell_type": "markdown",
   "id": "verified-currency",
   "metadata": {},
   "source": [
    "# Merge with Name File"
   ]
  },
  {
   "cell_type": "code",
   "execution_count": 7,
   "id": "lonely-semiconductor",
   "metadata": {},
   "outputs": [],
   "source": [
    "names = pd.read_csv('../supplements/TabS1_strain_names.csv')"
   ]
  },
  {
   "cell_type": "markdown",
   "id": "raising-series",
   "metadata": {},
   "source": [
    "We need to adjust the NCBI Accession numbers slightly to match with the accession numbers used in the aggregate recombination analysis."
   ]
  },
  {
   "cell_type": "code",
   "execution_count": 8,
   "id": "mysterious-pantyhose",
   "metadata": {},
   "outputs": [],
   "source": [
    "namesPlus = [f\"{i}1\" for i in names['NCBI Accession']]\n",
    "namesPlus[4] = 'NC0047183'\n",
    "namesPlus[40] = 'DQ0223052'\n",
    "namesPlus = pd.DataFrame(sorted(namesPlus),columns=['NCBI Extended'])"
   ]
  },
  {
   "cell_type": "code",
   "execution_count": 9,
   "id": "fabulous-tribune",
   "metadata": {},
   "outputs": [],
   "source": [
    "orig_names = names.set_index('NCBI Accession').sort_index().reset_index()[['NCBI Accession','Short ID']]\n",
    "mapper = pd.concat([namesPlus,orig_names],axis=1)"
   ]
  },
  {
   "cell_type": "code",
   "execution_count": 10,
   "id": "numerical-victory",
   "metadata": {},
   "outputs": [
    {
     "data": {
      "text/html": [
       "<div>\n",
       "<style scoped>\n",
       "    .dataframe tbody tr th:only-of-type {\n",
       "        vertical-align: middle;\n",
       "    }\n",
       "\n",
       "    .dataframe tbody tr th {\n",
       "        vertical-align: top;\n",
       "    }\n",
       "\n",
       "    .dataframe thead th {\n",
       "        text-align: right;\n",
       "    }\n",
       "</style>\n",
       "<table border=\"1\" class=\"dataframe\">\n",
       "  <thead>\n",
       "    <tr style=\"text-align: right;\">\n",
       "      <th></th>\n",
       "      <th>NCBI Extended</th>\n",
       "      <th>NCBI Accession</th>\n",
       "      <th>Short ID</th>\n",
       "    </tr>\n",
       "  </thead>\n",
       "  <tbody>\n",
       "    <tr>\n",
       "      <th>0</th>\n",
       "      <td>AY5720341</td>\n",
       "      <td>AY572034</td>\n",
       "      <td>C007</td>\n",
       "    </tr>\n",
       "    <tr>\n",
       "      <th>1</th>\n",
       "      <td>AY5720351</td>\n",
       "      <td>AY572035</td>\n",
       "      <td>C010</td>\n",
       "    </tr>\n",
       "    <tr>\n",
       "      <th>2</th>\n",
       "      <td>AY5720381</td>\n",
       "      <td>AY572038</td>\n",
       "      <td>C020</td>\n",
       "    </tr>\n",
       "    <tr>\n",
       "      <th>3</th>\n",
       "      <td>AY6868631</td>\n",
       "      <td>AY686863</td>\n",
       "      <td>A022</td>\n",
       "    </tr>\n",
       "    <tr>\n",
       "      <th>4</th>\n",
       "      <td>AY6868641</td>\n",
       "      <td>AY686864</td>\n",
       "      <td>B039</td>\n",
       "    </tr>\n",
       "  </tbody>\n",
       "</table>\n",
       "</div>"
      ],
      "text/plain": [
       "  NCBI Extended NCBI Accession Short ID\n",
       "0     AY5720341       AY572034     C007\n",
       "1     AY5720351       AY572035     C010\n",
       "2     AY5720381       AY572038     C020\n",
       "3     AY6868631       AY686863     A022\n",
       "4     AY6868641       AY686864     B039"
      ]
     },
     "execution_count": 10,
     "metadata": {},
     "output_type": "execute_result"
    }
   ],
   "source": [
    "mapper.head()"
   ]
  },
  {
   "cell_type": "code",
   "execution_count": 11,
   "id": "broad-liabilities",
   "metadata": {},
   "outputs": [],
   "source": [
    "transfers = transfers_raw.replace(mapper['NCBI Extended'].values, mapper['Short ID'].values)"
   ]
  },
  {
   "cell_type": "code",
   "execution_count": 12,
   "id": "combined-heart",
   "metadata": {},
   "outputs": [
    {
     "data": {
      "text/html": [
       "<div>\n",
       "<style scoped>\n",
       "    .dataframe tbody tr th:only-of-type {\n",
       "        vertical-align: middle;\n",
       "    }\n",
       "\n",
       "    .dataframe tbody tr th {\n",
       "        vertical-align: top;\n",
       "    }\n",
       "\n",
       "    .dataframe thead th {\n",
       "        text-align: right;\n",
       "    }\n",
       "</style>\n",
       "<table border=\"1\" class=\"dataframe\">\n",
       "  <thead>\n",
       "    <tr style=\"text-align: right;\">\n",
       "      <th></th>\n",
       "      <th>Donor</th>\n",
       "      <th>Recipient</th>\n",
       "      <th>Gene Family</th>\n",
       "      <th>Support</th>\n",
       "    </tr>\n",
       "  </thead>\n",
       "  <tbody>\n",
       "    <tr>\n",
       "      <th>14</th>\n",
       "      <td>GX2013</td>\n",
       "      <td>n44</td>\n",
       "      <td>S</td>\n",
       "      <td>1000</td>\n",
       "    </tr>\n",
       "    <tr>\n",
       "      <th>46</th>\n",
       "      <td>n15</td>\n",
       "      <td>YN2018A</td>\n",
       "      <td>S</td>\n",
       "      <td>1000</td>\n",
       "    </tr>\n",
       "    <tr>\n",
       "      <th>87</th>\n",
       "      <td>Rp3</td>\n",
       "      <td>Rm1</td>\n",
       "      <td>S</td>\n",
       "      <td>1000</td>\n",
       "    </tr>\n",
       "    <tr>\n",
       "      <th>103</th>\n",
       "      <td>HKU3_7</td>\n",
       "      <td>GX2013</td>\n",
       "      <td>ORF7a</td>\n",
       "      <td>1000</td>\n",
       "    </tr>\n",
       "    <tr>\n",
       "      <th>109</th>\n",
       "      <td>LYRa11</td>\n",
       "      <td>CpY11</td>\n",
       "      <td>ORF7a</td>\n",
       "      <td>1000</td>\n",
       "    </tr>\n",
       "    <tr>\n",
       "      <th>...</th>\n",
       "      <td>...</td>\n",
       "      <td>...</td>\n",
       "      <td>...</td>\n",
       "      <td>...</td>\n",
       "    </tr>\n",
       "    <tr>\n",
       "      <th>80</th>\n",
       "      <td>n9</td>\n",
       "      <td>YN2018A</td>\n",
       "      <td>ORF7b</td>\n",
       "      <td>1</td>\n",
       "    </tr>\n",
       "    <tr>\n",
       "      <th>56</th>\n",
       "      <td>n28</td>\n",
       "      <td>n34</td>\n",
       "      <td>E</td>\n",
       "      <td>1</td>\n",
       "    </tr>\n",
       "    <tr>\n",
       "      <th>87</th>\n",
       "      <td>Rs4247_147</td>\n",
       "      <td>n25</td>\n",
       "      <td>E</td>\n",
       "      <td>1</td>\n",
       "    </tr>\n",
       "    <tr>\n",
       "      <th>103</th>\n",
       "      <td>n25</td>\n",
       "      <td>n20</td>\n",
       "      <td>E</td>\n",
       "      <td>1</td>\n",
       "    </tr>\n",
       "    <tr>\n",
       "      <th>207</th>\n",
       "      <td>n46</td>\n",
       "      <td>GX2013</td>\n",
       "      <td>E</td>\n",
       "      <td>1</td>\n",
       "    </tr>\n",
       "  </tbody>\n",
       "</table>\n",
       "<p>1530 rows × 4 columns</p>\n",
       "</div>"
      ],
      "text/plain": [
       "          Donor Recipient Gene Family  Support\n",
       "14       GX2013       n44           S     1000\n",
       "46          n15   YN2018A           S     1000\n",
       "87          Rp3       Rm1           S     1000\n",
       "103      HKU3_7    GX2013       ORF7a     1000\n",
       "109      LYRa11     CpY11       ORF7a     1000\n",
       "..          ...       ...         ...      ...\n",
       "80           n9   YN2018A       ORF7b        1\n",
       "56          n28       n34           E        1\n",
       "87   Rs4247_147       n25           E        1\n",
       "103         n25       n20           E        1\n",
       "207         n46    GX2013           E        1\n",
       "\n",
       "[1530 rows x 4 columns]"
      ]
     },
     "execution_count": 12,
     "metadata": {},
     "output_type": "execute_result"
    }
   ],
   "source": [
    "transfers"
   ]
  },
  {
   "cell_type": "markdown",
   "id": "korean-survival",
   "metadata": {},
   "source": [
    "# Compute Support Thresholds"
   ]
  },
  {
   "cell_type": "markdown",
   "id": "multiple-lover",
   "metadata": {},
   "source": [
    "We compute support thresholds based on aggregate support values across unordered pairs of sequences. Thus, (A->B) with support 428 and (B->A) with support 221 has an aggregate support of 649."
   ]
  },
  {
   "cell_type": "code",
   "execution_count": 13,
   "id": "hearing-israel",
   "metadata": {},
   "outputs": [],
   "source": [
    "def unorder_and_rename(p,mapper):\n",
    "    newTrans = {}\n",
    "    for (n0, n1, v) in p:\n",
    "        if not n0.startswith('n'): #n0 is an ancestral node\n",
    "            n0 = mapper[mapper['NCBI Extended'] == n0]['Short ID'].item()\n",
    "        if not n1.startswith('n'): #n1 is an ancestral node\n",
    "            n1 = mapper[mapper['NCBI Extended'] == n1]['Short ID'].item()\n",
    "        if n0 < n1:\n",
    "            k = (n0, n1)\n",
    "        else:\n",
    "            k = (n1, n0)\n",
    "        s = newTrans.setdefault(k, 0)\n",
    "        newTrans[k] = s + v\n",
    "    return [(k,v) for k,v in newTrans.items()]"
   ]
  },
  {
   "cell_type": "code",
   "execution_count": 14,
   "id": "indian-perception",
   "metadata": {},
   "outputs": [],
   "source": [
    "def get_transfers_unord(gene_fam,mapper):\n",
    "    gene_fam_path = f\"../6_parse_reconciliation/outputs/parsed_test_{gene_fam}_agg_regB.out\"\n",
    "    trans_unordered = unorder_and_rename(read_transfer_file(gene_fam_path),mapper)\n",
    "    trans_sorted = sorted(trans_unordered,key=lambda x: x[1],reverse=True)\n",
    "    res = []\n",
    "    for tr in trans_sorted:\n",
    "        res.append([tr[0][0], tr[0][1], tr[1], gene_fam])\n",
    "    return res"
   ]
  },
  {
   "cell_type": "code",
   "execution_count": 15,
   "id": "color-armor",
   "metadata": {},
   "outputs": [],
   "source": [
    "unord_transfers_per_family = {gf: get_transfers_unord(gf,mapper) for gf in gene_families}"
   ]
  },
  {
   "cell_type": "code",
   "execution_count": 16,
   "id": "surrounded-adaptation",
   "metadata": {},
   "outputs": [],
   "source": [
    "unordered = pd.concat([pd.DataFrame(unord_transfers_per_family[k]) for k in gene_families])\n",
    "unordered = unordered.reset_index().drop(['index'],axis=1)\n",
    "unordered.index = unordered[0]+'+'+unordered[1]\n",
    "unordered.columns = ['First','Second','Support','Gene Family']"
   ]
  },
  {
   "cell_type": "code",
   "execution_count": 17,
   "id": "impressed-ethernet",
   "metadata": {},
   "outputs": [
    {
     "data": {
      "text/html": [
       "<div>\n",
       "<style scoped>\n",
       "    .dataframe tbody tr th:only-of-type {\n",
       "        vertical-align: middle;\n",
       "    }\n",
       "\n",
       "    .dataframe tbody tr th {\n",
       "        vertical-align: top;\n",
       "    }\n",
       "\n",
       "    .dataframe thead th {\n",
       "        text-align: right;\n",
       "    }\n",
       "</style>\n",
       "<table border=\"1\" class=\"dataframe\">\n",
       "  <thead>\n",
       "    <tr style=\"text-align: right;\">\n",
       "      <th></th>\n",
       "      <th>First</th>\n",
       "      <th>Second</th>\n",
       "      <th>Support</th>\n",
       "      <th>Gene Family</th>\n",
       "    </tr>\n",
       "  </thead>\n",
       "  <tbody>\n",
       "    <tr>\n",
       "      <th>n2+n35</th>\n",
       "      <td>n2</td>\n",
       "      <td>n35</td>\n",
       "      <td>1000</td>\n",
       "      <td>ORF1ab</td>\n",
       "    </tr>\n",
       "    <tr>\n",
       "      <th>Rs4231+n21</th>\n",
       "      <td>Rs4231</td>\n",
       "      <td>n21</td>\n",
       "      <td>1000</td>\n",
       "      <td>ORF1ab</td>\n",
       "    </tr>\n",
       "    <tr>\n",
       "      <th>HeB2013+Jiyuan_84</th>\n",
       "      <td>HeB2013</td>\n",
       "      <td>Jiyuan_84</td>\n",
       "      <td>1000</td>\n",
       "      <td>ORF1ab</td>\n",
       "    </tr>\n",
       "    <tr>\n",
       "      <th>Rs4081+WIV16</th>\n",
       "      <td>Rs4081</td>\n",
       "      <td>WIV16</td>\n",
       "      <td>1000</td>\n",
       "      <td>ORF1ab</td>\n",
       "    </tr>\n",
       "    <tr>\n",
       "      <th>HuB2013+Rm1</th>\n",
       "      <td>HuB2013</td>\n",
       "      <td>Rm1</td>\n",
       "      <td>1000</td>\n",
       "      <td>ORF1ab</td>\n",
       "    </tr>\n",
       "    <tr>\n",
       "      <th>...</th>\n",
       "      <td>...</td>\n",
       "      <td>...</td>\n",
       "      <td>...</td>\n",
       "      <td>...</td>\n",
       "    </tr>\n",
       "    <tr>\n",
       "      <th>C020+n14</th>\n",
       "      <td>C020</td>\n",
       "      <td>n14</td>\n",
       "      <td>4</td>\n",
       "      <td>M</td>\n",
       "    </tr>\n",
       "    <tr>\n",
       "      <th>n2+n33</th>\n",
       "      <td>n2</td>\n",
       "      <td>n33</td>\n",
       "      <td>4</td>\n",
       "      <td>M</td>\n",
       "    </tr>\n",
       "    <tr>\n",
       "      <th>SARS-CoV+n33</th>\n",
       "      <td>SARS-CoV</td>\n",
       "      <td>n33</td>\n",
       "      <td>4</td>\n",
       "      <td>M</td>\n",
       "    </tr>\n",
       "    <tr>\n",
       "      <th>C007+n2</th>\n",
       "      <td>C007</td>\n",
       "      <td>n2</td>\n",
       "      <td>4</td>\n",
       "      <td>M</td>\n",
       "    </tr>\n",
       "    <tr>\n",
       "      <th>YN2018A+n18</th>\n",
       "      <td>YN2018A</td>\n",
       "      <td>n18</td>\n",
       "      <td>2</td>\n",
       "      <td>M</td>\n",
       "    </tr>\n",
       "  </tbody>\n",
       "</table>\n",
       "<p>1170 rows × 4 columns</p>\n",
       "</div>"
      ],
      "text/plain": [
       "                      First     Second  Support Gene Family\n",
       "n2+n35                   n2        n35     1000      ORF1ab\n",
       "Rs4231+n21           Rs4231        n21     1000      ORF1ab\n",
       "HeB2013+Jiyuan_84   HeB2013  Jiyuan_84     1000      ORF1ab\n",
       "Rs4081+WIV16         Rs4081      WIV16     1000      ORF1ab\n",
       "HuB2013+Rm1         HuB2013        Rm1     1000      ORF1ab\n",
       "...                     ...        ...      ...         ...\n",
       "C020+n14               C020        n14        4           M\n",
       "n2+n33                   n2        n33        4           M\n",
       "SARS-CoV+n33       SARS-CoV        n33        4           M\n",
       "C007+n2                C007         n2        4           M\n",
       "YN2018A+n18         YN2018A        n18        2           M\n",
       "\n",
       "[1170 rows x 4 columns]"
      ]
     },
     "execution_count": 17,
     "metadata": {},
     "output_type": "execute_result"
    }
   ],
   "source": [
    "unordered"
   ]
  },
  {
   "cell_type": "code",
   "execution_count": 18,
   "id": "creative-dollar",
   "metadata": {},
   "outputs": [],
   "source": [
    "unordered_pivot = unordered.pivot(None, 'Gene Family','Support').fillna(0)\n",
    "# Re-order genes to be in correct viral order\n",
    "unordered_pivot = unordered_pivot[['ORF1ab','S','ORF3a','E','M','ORF6','ORF7a','ORF7b','ORF8','N','ORF10']]\n",
    "unordered_pivot['Total'] = unordered_pivot.sum(axis=1)\n",
    "unordered_pivot = unordered_pivot.sort_values(by='Total',ascending=False)\n",
    "support_values = unordered_pivot.iloc[:,:-1].values.ravel()"
   ]
  },
  {
   "cell_type": "code",
   "execution_count": 19,
   "id": "coral-combination",
   "metadata": {},
   "outputs": [],
   "source": [
    "# Write for later analysis\n",
    "unordered_pivot.to_csv('unordered_pivot.csv')"
   ]
  },
  {
   "cell_type": "code",
   "execution_count": 20,
   "id": "thermal-exhibit",
   "metadata": {},
   "outputs": [
    {
     "name": "stdout",
     "output_type": "stream",
     "text": [
      "# 95th Percentile: 100.0\n",
      "# 99th Percentile: 500.0\n",
      "# 99.5th Percentile: 808.6000000000058\n"
     ]
    }
   ],
   "source": [
    "pcnt95 = np.quantile(support_values, 0.95)\n",
    "pcnt99 = np.quantile(support_values, 0.99)\n",
    "pcnt995 = np.quantile(support_values, 0.995)\n",
    "\n",
    "print(f\"# 95th Percentile: {pcnt95}\")\n",
    "print(f\"# 99th Percentile: {pcnt99}\")\n",
    "print(f\"# 99.5th Percentile: {pcnt995}\")"
   ]
  },
  {
   "cell_type": "code",
   "execution_count": 21,
   "id": "taken-dietary",
   "metadata": {},
   "outputs": [
    {
     "data": {
      "image/png": "[encoded data removed]",
      "text/plain": [
       "<Figure size 432x288 with 1 Axes>"
      ]
     },
     "metadata": {
      "needs_background": "light"
     },
     "output_type": "display_data"
    }
   ],
   "source": [
    "plt.hist(support_values)\n",
    "plt.vlines([pcnt95, pcnt99, pcnt995],0,9000,colors=['r','y','g'])\n",
    "plt.show()"
   ]
  },
  {
   "cell_type": "markdown",
   "id": "japanese-bracket",
   "metadata": {},
   "source": [
    "# Save All Transfers above 95th Percentile"
   ]
  },
  {
   "cell_type": "code",
   "execution_count": 22,
   "id": "sound-builder",
   "metadata": {},
   "outputs": [],
   "source": [
    "supported_transfers = transfers[transfers['Support'] >= pcnt95]"
   ]
  },
  {
   "cell_type": "code",
   "execution_count": 23,
   "id": "level-picture",
   "metadata": {},
   "outputs": [
    {
     "data": {
      "text/html": [
       "<div>\n",
       "<style scoped>\n",
       "    .dataframe tbody tr th:only-of-type {\n",
       "        vertical-align: middle;\n",
       "    }\n",
       "\n",
       "    .dataframe tbody tr th {\n",
       "        vertical-align: top;\n",
       "    }\n",
       "\n",
       "    .dataframe thead th {\n",
       "        text-align: right;\n",
       "    }\n",
       "</style>\n",
       "<table border=\"1\" class=\"dataframe\">\n",
       "  <thead>\n",
       "    <tr style=\"text-align: right;\">\n",
       "      <th></th>\n",
       "      <th>Donor</th>\n",
       "      <th>Recipient</th>\n",
       "      <th>Gene Family</th>\n",
       "      <th>Support</th>\n",
       "    </tr>\n",
       "  </thead>\n",
       "  <tbody>\n",
       "    <tr>\n",
       "      <th>14</th>\n",
       "      <td>GX2013</td>\n",
       "      <td>n44</td>\n",
       "      <td>S</td>\n",
       "      <td>1000</td>\n",
       "    </tr>\n",
       "    <tr>\n",
       "      <th>46</th>\n",
       "      <td>n15</td>\n",
       "      <td>YN2018A</td>\n",
       "      <td>S</td>\n",
       "      <td>1000</td>\n",
       "    </tr>\n",
       "    <tr>\n",
       "      <th>87</th>\n",
       "      <td>Rp3</td>\n",
       "      <td>Rm1</td>\n",
       "      <td>S</td>\n",
       "      <td>1000</td>\n",
       "    </tr>\n",
       "    <tr>\n",
       "      <th>103</th>\n",
       "      <td>HKU3_7</td>\n",
       "      <td>GX2013</td>\n",
       "      <td>ORF7a</td>\n",
       "      <td>1000</td>\n",
       "    </tr>\n",
       "    <tr>\n",
       "      <th>109</th>\n",
       "      <td>LYRa11</td>\n",
       "      <td>CpY11</td>\n",
       "      <td>ORF7a</td>\n",
       "      <td>1000</td>\n",
       "    </tr>\n",
       "    <tr>\n",
       "      <th>...</th>\n",
       "      <td>...</td>\n",
       "      <td>...</td>\n",
       "      <td>...</td>\n",
       "      <td>...</td>\n",
       "    </tr>\n",
       "    <tr>\n",
       "      <th>181</th>\n",
       "      <td>YN2018C</td>\n",
       "      <td>Rs4081</td>\n",
       "      <td>E</td>\n",
       "      <td>100</td>\n",
       "    </tr>\n",
       "    <tr>\n",
       "      <th>231</th>\n",
       "      <td>n44</td>\n",
       "      <td>RpS11</td>\n",
       "      <td>E</td>\n",
       "      <td>100</td>\n",
       "    </tr>\n",
       "    <tr>\n",
       "      <th>232</th>\n",
       "      <td>n15</td>\n",
       "      <td>Rs672</td>\n",
       "      <td>E</td>\n",
       "      <td>100</td>\n",
       "    </tr>\n",
       "    <tr>\n",
       "      <th>246</th>\n",
       "      <td>Rs4084</td>\n",
       "      <td>Rp3</td>\n",
       "      <td>E</td>\n",
       "      <td>100</td>\n",
       "    </tr>\n",
       "    <tr>\n",
       "      <th>248</th>\n",
       "      <td>C010</td>\n",
       "      <td>C020</td>\n",
       "      <td>E</td>\n",
       "      <td>100</td>\n",
       "    </tr>\n",
       "  </tbody>\n",
       "</table>\n",
       "<p>588 rows × 4 columns</p>\n",
       "</div>"
      ],
      "text/plain": [
       "       Donor Recipient Gene Family  Support\n",
       "14    GX2013       n44           S     1000\n",
       "46       n15   YN2018A           S     1000\n",
       "87       Rp3       Rm1           S     1000\n",
       "103   HKU3_7    GX2013       ORF7a     1000\n",
       "109   LYRa11     CpY11       ORF7a     1000\n",
       "..       ...       ...         ...      ...\n",
       "181  YN2018C    Rs4081           E      100\n",
       "231      n44     RpS11           E      100\n",
       "232      n15     Rs672           E      100\n",
       "246   Rs4084       Rp3           E      100\n",
       "248     C010      C020           E      100\n",
       "\n",
       "[588 rows x 4 columns]"
      ]
     },
     "execution_count": 23,
     "metadata": {},
     "output_type": "execute_result"
    }
   ],
   "source": [
    "supported_transfers"
   ]
  },
  {
   "cell_type": "code",
   "execution_count": 24,
   "id": "inside-endorsement",
   "metadata": {},
   "outputs": [],
   "source": [
    "transfers.to_csv('unclipped_transfer_table.csv',header=True,index=None)\n",
    "supported_transfers.to_csv('clean_transfer_table.csv',header=True,index=None)"
   ]
  }
 ],
 "metadata": {
  "kernelspec": {
   "display_name": "Python 3",
   "language": "python",
   "name": "python3"
  },
  "language_info": {
   "codemirror_mode": {
    "name": "ipython",
    "version": 3
   },
   "file_extension": ".py",
   "mimetype": "text/x-python",
   "name": "python",
   "nbconvert_exporter": "python",
   "pygments_lexer": "ipython3",
   "version": "3.7.8"
  }
 },
 "nbformat": 4,
 "nbformat_minor": 5
}
